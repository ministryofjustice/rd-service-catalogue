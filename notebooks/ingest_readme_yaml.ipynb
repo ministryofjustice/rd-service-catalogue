{
 "cells": [
  {
   "cell_type": "markdown",
   "id": "0",
   "metadata": {},
   "source": [
    "# Ingest YAML Metadata From A Repo README.md\n",
    "\n",
    "[Code adapted from https://github.com/moj-analytical-services/data-science-assets]\n",
    "\n",
    "This notebook uses the GitHub API.  \n",
    "The API call extracts the `yaml` block from a GitHub repo. A dictionary\n",
    "containing the metadata is returned."
   ]
  },
  {
   "cell_type": "code",
   "execution_count": null,
   "id": "1",
   "metadata": {
    "ExecuteTime": {
     "end_time": "2024-09-27T10:55:59.848923Z",
     "start_time": "2024-09-27T10:55:59.826399Z"
    }
   },
   "outputs": [],
   "source": [
    "import dotenv\n",
    "from pyprojroot import here\n",
    "\n",
    "from ai_nexus_backend.github_api import (\n",
    "    get_readme_content,\n",
    "    extract_yaml_from_md,\n",
    "    )"
   ]
  },
  {
   "cell_type": "code",
   "execution_count": null,
   "id": "3",
   "metadata": {
    "ExecuteTime": {
     "end_time": "2024-09-27T10:58:15.880998Z",
     "start_time": "2024-09-27T10:58:15.814842Z"
    }
   },
   "outputs": [],
   "source": [
    "secrets = dotenv.dotenv_values(here(\".env\"))\n",
    "user_agent = secrets[\"AGENT\"]\n",
    "pat = secrets[\"GITHUB_PAT\"] "
   ]
  },
  {
   "cell_type": "code",
   "execution_count": null,
   "id": "5268c02c",
   "metadata": {},
   "outputs": [],
   "source": [
    "test_url = \"https://github.com/r-leyshon/example_yaml-_metadata\"\n",
    "readme = get_readme_content(test_url, pat, user_agent)\n",
    "out = extract_yaml_from_md(readme)\n",
    "out"
   ]
  },
  {
   "cell_type": "code",
   "execution_count": null,
   "id": "f10e88a0",
   "metadata": {},
   "outputs": [],
   "source": [
    "readme = get_readme_content(\"https://github.com/ministryofjustice/gpc-anomalies\", pat, user_agent)\n",
    "out = extract_yaml_from_md(readme)\n",
    "out"
   ]
  },
  {
   "cell_type": "code",
   "execution_count": null,
   "id": "548aa870",
   "metadata": {},
   "outputs": [],
   "source": [
    "readme = get_readme_content(\"https://github.com/moj-analytical-services/airflow-viper-2\", pat, user_agent)\n",
    "out = extract_yaml_from_md(readme)\n",
    "out"
   ]
  },
  {
   "cell_type": "code",
   "execution_count": null,
   "id": "6122bac1",
   "metadata": {},
   "outputs": [],
   "source": []
  }
 ],
 "metadata": {
  "kernelspec": {
   "display_name": "Python 3",
   "language": "python",
   "name": "python3"
  },
  "language_info": {
   "codemirror_mode": {
    "name": "ipython",
    "version": 3
   },
   "file_extension": ".py",
   "mimetype": "text/x-python",
   "name": "python",
   "nbconvert_exporter": "python",
   "pygments_lexer": "ipython3",
   "version": "3.12.5"
  }
 },
 "nbformat": 4,
 "nbformat_minor": 5
}
