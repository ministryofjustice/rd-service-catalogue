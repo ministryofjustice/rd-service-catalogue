{
 "cells": [
  {
   "cell_type": "code",
   "execution_count": null,
   "metadata": {},
   "outputs": [],
   "source": [
    "import dotenv\n",
    "from pyprojroot import here\n",
    "\n",
    "from ai_nexus_backend.confluence_api import ConfluenceClient\n"
   ]
  },
  {
   "cell_type": "code",
   "execution_count": null,
   "metadata": {},
   "outputs": [],
   "source": [
    "secrets = dotenv.dotenv_values(here(\".env\"))\n",
    "user_agent = secrets[\"AGENT\"]\n",
    "atlassian_email = secrets[\"ATLASSIAN_EMAIL\"]\n",
    "atlassian_pat = secrets[\"ATLASSIAN_PAT\"]\n",
    "confluence_client = ConfluenceClient(\n",
    "    atlassian_email, atlassian_pat, user_agent\n",
    "    )\n",
    "\n",
    "yaml_url = secrets[\"YAML_URL\"]\n",
    "json_url = secrets[\"JSON_URL\"]\n"
   ]
  },
  {
   "cell_type": "code",
   "execution_count": null,
   "metadata": {},
   "outputs": [],
   "source": [
    "yaml_content = confluence_client.extract_yaml_metadata(yaml_url)\n",
    "yaml_content\n"
   ]
  },
  {
   "cell_type": "code",
   "execution_count": null,
   "metadata": {},
   "outputs": [],
   "source": [
    "json_content = confluence_client.extract_json_metadata(json_url)\n",
    "json_content\n"
   ]
  },
  {
   "cell_type": "code",
   "execution_count": null,
   "metadata": {},
   "outputs": [],
   "source": []
  }
 ],
 "metadata": {
  "language_info": {
   "codemirror_mode": {
    "name": "ipython",
    "version": 3
   },
   "file_extension": ".py",
   "mimetype": "text/x-python",
   "name": "python",
   "nbconvert_exporter": "python",
   "pygments_lexer": "ipython3",
   "version": "3.12.7"
  }
 },
 "nbformat": 4,
 "nbformat_minor": 2
}
