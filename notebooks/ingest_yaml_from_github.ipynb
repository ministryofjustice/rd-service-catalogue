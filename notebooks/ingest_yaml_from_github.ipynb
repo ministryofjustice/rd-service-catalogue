{
 "cells": [
  {
   "cell_type": "markdown",
   "id": "0",
   "metadata": {},
   "source": [
    "# Ingest YAML Metadata From A Repo README.md\n",
    "\n",
    "[Code adapted from https://github.com/moj-analytical-services/data-science-assets]\n",
    "\n",
    "This notebook uses the GitHub API.  \n",
    "The API call extracts the `yaml` block from a GitHub repo. A dictionary\n",
    "containing the metadata is returned."
   ]
  },
  {
   "cell_type": "code",
   "execution_count": null,
   "id": "1",
   "metadata": {},
   "outputs": [],
   "source": [
    "import dotenv\n",
    "from pyprojroot import here\n",
    "\n",
    "from ai_nexus_backend.github_api import GithubClient"
   ]
  },
  {
   "cell_type": "code",
   "execution_count": null,
   "id": "2",
   "metadata": {},
   "outputs": [],
   "source": [
    "secrets = dotenv.dotenv_values(here(\".env\"))\n",
    "user_agent = secrets[\"AGENT\"]\n",
    "pat = secrets[\"GITHUB_PAT\"] \n",
    "client = GithubClient(github_pat=pat, user_agent=user_agent)"
   ]
  },
  {
   "cell_type": "code",
   "execution_count": null,
   "id": "3",
   "metadata": {},
   "outputs": [],
   "source": [
    "test_url = \"https://github.com/r-leyshon/example_yaml-_metadata\"\n",
    "readme = client.get_readme_content(test_url)\n",
    "out = client.extract_yaml_from_md(readme)\n",
    "out"
   ]
  },
  {
   "cell_type": "code",
   "execution_count": null,
   "id": "4",
   "metadata": {},
   "outputs": [],
   "source": [
    "readme = client.get_readme_content(\"https://github.com/ministryofjustice/gpc-anomalies\")\n",
    "out = client.extract_yaml_from_md(readme)\n",
    "out"
   ]
  },
  {
   "cell_type": "code",
   "execution_count": null,
   "id": "5",
   "metadata": {},
   "outputs": [],
   "source": [
    "readme = client.get_readme_content(\"https://github.com/moj-analytical-services/airflow-viper-2\")\n",
    "out = client.extract_yaml_from_md(readme)\n",
    "out"
   ]
  },
  {
   "cell_type": "code",
   "execution_count": null,
   "id": "6",
   "metadata": {},
   "outputs": [],
   "source": []
  }
 ],
 "metadata": {
  "language_info": {
   "codemirror_mode": {
    "name": "ipython",
    "version": 3
   },
   "file_extension": ".py",
   "mimetype": "text/x-python",
   "name": "python",
   "nbconvert_exporter": "python",
   "pygments_lexer": "ipython3",
   "version": "3.12.7"
  }
 },
 "nbformat": 4,
 "nbformat_minor": 5
}
